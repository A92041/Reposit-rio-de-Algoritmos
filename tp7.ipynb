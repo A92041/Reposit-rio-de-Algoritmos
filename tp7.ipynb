{
 "cells": [
  {
   "cell_type": "markdown",
   "metadata": {},
   "source": [
    "# Ficha técnica\n",
    "\n",
    "### __identificador__: aulaP7;\n",
    "\n",
    "### __título__: Processamento de datasets;\n",
    "\n",
    "### __data início__: 2021-11-22;\n",
    "\n",
    "### __autor__: José Carlos Ramalho, D1513;\n",
    "\n",
    "### __resumo__: Nesta aula, irás fazer exercícios sobre leitura de datasets, seu processamento e produção de dados estatísticos.\n",
    "\n",
    "## Dataset\n",
    "\n",
    "#### Para a resolução dos exercícios desta ficha, descarrega o dataset de alunos do site da UC.\n",
    "\n",
    "### Estrutura do dataset\n",
    "##### O dataset tem a seguinte estrutura:"
   ]
  },
  {
   "cell_type": "code",
   "execution_count": 24,
   "metadata": {},
   "outputs": [
    {
     "data": {
      "text/plain": [
       "('a6', ' Eryk Clementino ', 'LEI', 10, 19, 11, 14)"
      ]
     },
     "execution_count": 24,
     "metadata": {},
     "output_type": "execute_result"
    }
   ],
   "source": [
    "\"id_aluno,nome,curso,tpc1,tpc2,tpc3,tpc4\"\n",
    "\"a1\",\"Aysha Melanie Gilberto\",\"LEI\",12,8,19,8\n",
    "\"a2\",\"Igor André Cantanhede\",\"ENGFIS\", 12,16,18,20\n",
    "\"a3\", \"Laurénio Narciso\" , \"ENGFIS\" , 8, 14, 15,14\n",
    "\"a4\", \"Jasnoor Casegas\", \"LCC\", 14, 20, 17, 11 \n",
    "\"a5\" , \"Tawseef Rebouças\",\"ENGBIOM\", 13, 14, 13, 17\n",
    "\"a6\" , \" Eryk Clementino \",\"LEI\", 10,19,11,14\n",
    "  "
   ]
  },
  {
   "cell_type": "markdown",
   "metadata": {},
   "source": [
    "## Leitura (exercício 1)\n",
    "\n",
    "### Depois de pensares num modelo adequado especifica a função que lê o ficheiro e povoa esse modelo.\"\n",
    "\n",
    "   "
   ]
  },
  {
   "cell_type": "code",
   "execution_count": 25,
   "metadata": {},
   "outputs": [],
   "source": [
    "# Descreve em texto o teu\n",
    "#\n",
    "#BdAlunos = [Aluno]\n",
    "#Aluno = [id,nome,curso,[tpc1,tpc2,tpc3,tpc4]]\n",
    "#\n",
    "# Descreve em texto o teu\n",
    "#\n",
    "#BdAlunos = [Aluno]\n",
    "#Aluno = [id,nome,curso,[tpc1,tpc2,tpc3,tpc4]]\n",
    "#\n",
    "#Leitura/carregamento da informação do ficheiro\n",
    "def convInt(s):\n",
    "    return int(s)\n",
    "\n",
    "def getAluno(texto):\n",
    "    textoLimpo = texto.replace(\"\\\"\",\"\") #substituir as aspas por espaços vazios\n",
    "    campos = textoLimpo.split(\",\")\n",
    "    aluno = []\n",
    "    aluno.append(campos[0])\n",
    "    aluno.append(campos[1])\n",
    "    aluno.append(campos[2])\n",
    "    aluno.append(campos[3:])\n",
    "    lista = []\n",
    "    for s in aluno[3]:\n",
    "        lista.append(int(s))\n",
    "    aluno[3]= lista\n",
    "    print(aluno) #conversão de texto para linha formada\n",
    "         \n",
    "\n",
    "def lerDataset(fnome):\n",
    "    f = open(fnome, encoding=\"utf-8\")\n",
    "    bd = []\n",
    "    f.readline()\n",
    "    for linha in f:\n",
    "        bd.append(getAluno(linha))\n",
    "    return bd"
   ]
  },
  {
   "cell_type": "code",
   "execution_count": 26,
   "metadata": {},
   "outputs": [
    {
     "name": "stdout",
     "output_type": "stream",
     "text": [
      "['a1', 'Aysha Melanie Gilberto', 'LEI', [12, 8, 19, 8]]\n",
      "['a2', 'Igor André Cantanhede', 'ENGFIS', [12, 16, 18, 20]]\n",
      "['a3', 'Laurénio Narciso', 'ENGFIS', [8, 14, 15, 14]]\n",
      "['a4', 'Jasnoor Casegas', 'LCC', [14, 20, 17, 11]]\n",
      "['a5', 'Tawseef Rebouças', 'ENGBIOM', [13, 14, 13, 17]]\n",
      "['a6', 'Eryk Clementino', 'LEI', [10, 19, 11, 14]]\n",
      "['a7', 'Ianna Noivo', 'ENGBIOM', [15, 15, 17, 16]]\n",
      "['a8', 'Ayla Thaissa Reina', 'ENGBIOM', [12, 8, 8, 18]]\n",
      "['a9', 'Cássia Viviane Coitã', 'ENGFIS', [19, 9, 14, 10]]\n",
      "['a10', 'Koby Vindima', 'LEI', [9, 14, 20, 13]]\n",
      "['a11', 'Gustavo Martim Hernandez', 'ENGBIOM', [11, 8, 14, 11]]\n",
      "['a12', 'Siddarta Beiriz', 'LEI', [17, 10, 16, 16]]\n",
      "['a13', 'Daniela Patrícia Montes', 'ENGBIOM', [15, 15, 18, 19]]\n",
      "['a14', 'Kaylla Pessego', 'LCC', [10, 14, 17, 15]]\n",
      "['a15', 'Bianca Cristina Primitivo', 'ENGBIOM', [16, 9, 18, 10]]\n",
      "['a16', 'Magna Galhardo', 'ENGFIS', [20, 18, 9, 14]]\n",
      "['a17', 'Grace Isabel Patriarca', 'LCC', [19, 13, 9, 10]]\n",
      "['a18', 'Saubhagya Buco', 'LEI', [18, 18, 17, 8]]\n",
      "['a19', 'Ivo Vicente Boisa', 'ENGBIOM', [14, 10, 18, 13]]\n",
      "['a20', 'Vivaan Castilhos', 'ENGFIS', [15, 14, 11, 12]]\n",
      "['a21', 'Layana Camejo', 'ENGFIS', [17, 12, 10, 20]]\n",
      "['a22', 'Mahdi Menoita', 'ENGFIS', [11, 16, 8, 16]]\n",
      "['a23', 'Yifan Cortinado', 'LEI', [19, 16, 8, 18]]\n",
      "['a24', 'Éder Sodré', 'ENGFIS', [17, 13, 14, 12]]\n",
      "['a25', 'Dhriti Magano', 'ENGFIS', [19, 11, 8, 19]]\n",
      "['a26', 'Steve Devesa', 'ENGBIOM', [10, 16, 8, 13]]\n",
      "['a27', 'Lisandro Mariano Picassinos', 'ENGFIS', [13, 10, 16, 10]]\n",
      "['a28', 'Itiel Quinoy', 'LEI', [18, 18, 8, 9]]\n",
      "['a29', 'Pranika Reimoo', 'LEI', [12, 16, 15, 13]]\n",
      "['a30', 'Manaia Viseu', 'ENGFIS', [8, 12, 20, 11]]\n",
      "['a31', 'Eva Manuel Caio', 'ENGFIS', [12, 16, 20, 16]]\n",
      "['a32', 'Ariane Sofia Foja', 'LEI', [20, 19, 13, 18]]\n",
      "['a33', 'Jaime António Pauseiro', 'LCC', [19, 13, 8, 10]]\n",
      "['a34', 'Tanisha Marzagoo', 'ENGBIOM', [14, 19, 13, 14]]\n",
      "['a35', 'Siyon Anca', 'LEI', [8, 13, 19, 15]]\n",
      "['a36', 'Diana Beatriz Boavista', 'LCC', [19, 18, 17, 12]]\n",
      "['a37', 'Elisiário Saberio', 'ENGFIS', [18, 18, 10, 19]]\n",
      "['a38', 'Maira Brites', 'ENGFIS', [13, 16, 15, 17]]\n",
      "['a39', 'Victória Gabriela Incenso', 'LEI', [17, 14, 13, 8]]\n",
      "['a40', 'Najua Serôdio', 'LCC', [17, 9, 16, 18]]\n",
      "['a41', 'Lachezar Rosas', 'ENGBIOM', [16, 18, 18, 15]]\n",
      "['a42', 'Kattleya Trigueiro', 'ENGFIS', [19, 16, 14, 15]]\n",
      "['a43', 'Tatiana Guiomar Maricoto', 'LCC', [19, 8, 15, 11]]\n",
      "['a44', 'Mélanie Daniela Bugalhão', 'LCC', [17, 9, 17, 18]]\n",
      "['a45', 'Imayame Hespanha', 'ENGFIS', [20, 17, 19, 11]]\n",
      "['a46', 'Yuri Gabriel Baganha', 'LCC', [15, 18, 12, 16]]\n",
      "['a47', 'Moisés João Cornelio', 'LEI', [20, 16, 19, 17]]\n",
      "['a48', 'Nazir Assif Trinta', 'LEI', [14, 14, 12, 8]]\n",
      "['a49', 'Karamjot Arezes', 'LEI', [10, 9, 20, 12]]\n",
      "['a50', 'Rishit Justa', 'ENGBIOM', [9, 9, 9, 12]]\n",
      "['a51', 'Iara de Jesus Gonçalo', 'ENGFIS', [14, 8, 12, 14]]\n",
      "['a52', 'Stepfan Owusu Lercas', 'LEI', [18, 9, 16, 14]]\n",
      "['a53', 'Abner Umbelina', 'ENGBIOM', [20, 16, 10, 13]]\n",
      "['a54', 'Dânia Lucy Montelobo', 'LEI', [18, 19, 15, 11]]\n",
      "['a55', 'Myla Lopez', 'ENGFIS', [9, 17, 12, 20]]\n",
      "['a56', 'Hakeem Brazão', 'LEI', [18, 18, 13, 20]]\n",
      "['a57', 'Quinn Aveiro', 'ENGBIOM', [17, 16, 9, 13]]\n",
      "['a58', 'Etienne Constentino', 'ENGBIOM', [15, 8, 9, 13]]\n",
      "['a59', 'Emanuel Marcos Delfina', 'LEI', [9, 15, 8, 13]]\n",
      "['a60', 'Mariana Catarina Ramalheira', 'ENGBIOM', [17, 19, 19, 11]]\n",
      "['a61', 'Bradley Tabau', 'LCC', [16, 19, 16, 12]]\n",
      "['a62', 'Ahmadou Bamba Calcinha', 'LCC', [13, 20, 8, 16]]\n",
      "['a63', 'Francisco Pedro Derresa', 'ENGFIS', [8, 12, 20, 18]]\n",
      "['a64', 'Gil Miguel Lima', 'ENGBIOM', [16, 19, 8, 14]]\n",
      "['a65', 'Leonor Pedro Carqueijeiro', 'ENGBIOM', [19, 11, 17, 8]]\n",
      "['a66', 'Genrikh Maximovich Vila-Chã', 'ENGFIS', [12, 15, 13, 9]]\n",
      "['a67', 'Mayra Larissa Rolo', 'LCC', [15, 14, 17, 12]]\n",
      "['a68', 'Leandro David Dunhoo', 'ENGBIOM', [15, 14, 11, 15]]\n",
      "['a69', 'Adele Belchior', 'ENGBIOM', [17, 12, 20, 12]]\n",
      "['a70', 'Frantceska Borreca', 'ENGFIS', [18, 11, 19, 8]]\n",
      "['a71', 'Derrick Urias', 'ENGFIS', [11, 10, 8, 14]]\n",
      "['a72', 'Ana Gabriel Quirino', 'LCC', [10, 17, 8, 19]]\n",
      "['a73', 'Carolina Antoo', 'ENGBIOM', [16, 19, 20, 10]]\n",
      "['a74', 'Vânia Sofia Porfirio', 'ENGBIOM', [18, 19, 18, 15]]\n",
      "['a75', 'Dárcio Wosvaldo Tudela', 'LEI', [8, 18, 9, 18]]\n",
      "['a76', 'Zhara Couxão', 'ENGFIS', [16, 10, 14, 12]]\n",
      "['a77', 'Tomé Ferrito', 'LCC', [14, 10, 15, 19]]\n",
      "['a78', 'Iasmin Paloma Chaveiro', 'LCC', [8, 15, 19, 9]]\n",
      "['a79', 'Sadagi Cruto', 'ENGBIOM', [13, 18, 14, 18]]\n",
      "['a80', 'Maria Carolina Josué', 'ENGFIS', [17, 20, 17, 18]]\n",
      "['a81', 'Quaresma Lancastre', 'ENGBIOM', [17, 9, 16, 19]]\n",
      "['a82', 'Evaldir Gervasio', 'ENGFIS', [16, 19, 15, 8]]\n",
      "['a83', 'Dolorinda Adolfo', 'ENGFIS', [11, 20, 16, 8]]\n",
      "['a84', 'Laudário Frasão', 'LCC', [20, 19, 10, 19]]\n",
      "['a85', 'Rómula Jeronimo', 'ENGFIS', [10, 13, 12, 11]]\n",
      "['a86', 'Clésio Rodeiro', 'LCC', [9, 13, 12, 18]]\n",
      "['a87', 'Feliciano José Avis', 'ENGFIS', [9, 11, 10, 9]]\n",
      "['a88', 'Afonso Adriano Marca', 'ENGBIOM', [8, 16, 12, 15]]\n",
      "['a89', 'Victória Miguel Rosete', 'ENGFIS', [8, 13, 13, 18]]\n",
      "['a90', 'Tome Teroso', 'ENGFIS', [9, 9, 10, 17]]\n",
      "['a91', 'Constança Filipa Melado', 'LEI', [10, 12, 8, 20]]\n",
      "['a92', 'Madalena Jesus Alfaiate', 'LEI', [17, 14, 9, 17]]\n",
      "['a93', 'Bivhan Reimbau', 'LCC', [17, 11, 8, 12]]\n",
      "['a94', 'Viviana Sofia Gaspar', 'ENGBIOM', [16, 16, 20, 14]]\n",
      "['a95', 'Íris Soraia Chiote', 'LEI', [11, 11, 17, 16]]\n",
      "['a96', 'Anaïs Sintra', 'LCC', [19, 19, 12, 9]]\n",
      "['a97', 'Salvador Banaca', 'LCC', [12, 9, 20, 12]]\n",
      "['a98', 'Guilherme Matias Almeirão', 'ENGFIS', [14, 9, 12, 11]]\n",
      "['a99', 'Xavier Luís Bulha', 'ENGFIS', [17, 13, 8, 10]]\n",
      "['a100', 'Tude Searas', 'LEI', [20, 17, 8, 14]]\n",
      "[None, None, None, None, None, None, None, None, None, None, None, None, None, None, None, None, None, None, None, None, None, None, None, None, None, None, None, None, None, None, None, None, None, None, None, None, None, None, None, None, None, None, None, None, None, None, None, None, None, None, None, None, None, None, None, None, None, None, None, None, None, None, None, None, None, None, None, None, None, None, None, None, None, None, None, None, None, None, None, None, None, None, None, None, None, None, None, None, None, None, None, None, None, None, None, None, None, None, None, None]\n"
     ]
    }
   ],
   "source": [
    "BD = []\n",
    "BD = lerDataset(\"../datasets/alunos.csv\") #procurar o ficheiro na pasta\n",
    "print(BD)"
   ]
  },
  {
   "cell_type": "markdown",
   "metadata": {},
   "source": [
    "## Listagem (exercício 2)\n",
    "\n",
    "    \"Especifica uma função que faça a listagem no monitor dos vários registos de informação.\\n\",\n",
    "    \"Tenta dar a forma duma tabela em que as colunas têm todas a mesma dimensão.\""
   ]
  },
  {
   "cell_type": "code",
   "execution_count": 46,
   "metadata": {},
   "outputs": [
    {
     "ename": "SyntaxError",
     "evalue": "invalid syntax (<ipython-input-46-e94684a88769>, line 8)",
     "output_type": "error",
     "traceback": [
      "\u001b[1;36m  File \u001b[1;32m\"<ipython-input-46-e94684a88769>\"\u001b[1;36m, line \u001b[1;32m8\u001b[0m\n\u001b[1;33m    listarDataset(BD)\u001b[0m\n\u001b[1;37m                ^\u001b[0m\n\u001b[1;31mSyntaxError\u001b[0m\u001b[1;31m:\u001b[0m invalid syntax\n"
     ]
    }
   ],
   "source": [
    "#listagem de informação\n",
    "def listarDataset(bd):\n",
    "    print(\"id     nome     curso     média\")\n",
    "    print(\"-------------------------------\")\n",
    "    for a in bd: #para cada linha\n",
    "        print(a[0] + \" | \" + a[1] + \" | \" + a[2] + \" | \" + str(sum(a[3]/4))\n",
    "              \n",
    "listarDataset(BD)         "
   ]
  },
  {
   "cell_type": "markdown",
   "metadata": {},
   "source": [
    "## Consulta de um registo (exercício 3)\\n\",\n",
    "\n",
    "Especifica uma função que, dado o id de um aluno, coloca a sua informação no monitor. Para além disso, indica também a média dos TPC realizados.\"\n",
    "   \n",
    "    \"# Consulta de um registo\\n\",\n",
    "    \"def consultarDataset(d, id):\\n\",\n",
    "    \"    # ...escreve aqui o teu código...\"\n",
    "   "
   ]
  },
  {
   "cell_type": "markdown",
   "metadata": {},
   "source": [
    "## Top 10 (exercício 4)\n",
    "\n",
    "Especifica um função que dá como resultado uma lista com os alunos com as 10 médias mais altas: id, nome, curso, média.\n",
    " "
   ]
  },
  {
   "cell_type": "code",
   "execution_count": null,
   "metadata": {},
   "outputs": [],
   "source": [
    "def top10(d):\n",
    "\n",
    "# Escreve aqui o teu código\""
   ]
  },
  {
   "cell_type": "markdown",
   "metadata": {},
   "source": [
    "\n",
    "## Distribuição por curso (exercício 5)\n",
    "    \n",
    "Especifica uma função que dá como resultado uma lista de pares indicando quantos alunos há em cada curso.\n",
    " "
   ]
  },
  {
   "cell_type": "code",
   "execution_count": 49,
   "metadata": {},
   "outputs": [],
   "source": [
    "def distribPorCurso(bd):\n",
    "    distribuicao={}\n",
    "    for a in bd:\n",
    "        if a[2] in distribuicao.keys():\n",
    "            distribuicao[a[2]]= distribuicao[a[2]]+1\n",
    "        else:\n",
    "            distribuicao[a[2]]= 1\n",
    "    return distribuicao\n",
    "\n",
    "    d=distribPorCurso(BD)\n",
    "    print(d)"
   ]
  },
  {
   "cell_type": "markdown",
   "metadata": {},
   "source": [
    "\n",
    "## Distribuição por médias (exercício 6)\n",
    "    \n",
    "    \"Especifica uma função que dá como resultado uma lista de pares, média e número de alunos com essa média (considera o valor inteiro da média).\"\n",
    " "
   ]
  },
  {
   "cell_type": "code",
   "execution_count": 41,
   "metadata": {},
   "outputs": [],
   "source": [
    "def distribPorMedia(d):\n",
    "    distribuicao = {}\n",
    "    for a in bd:\n",
    "        if a[3] in distribuicao.keys():\n",
    "            distribuicao[sum(a[3])/len(a[3])]= distribuicao[sum(a[3]+1)/len(a[3]+1)]\n",
    "        else:\n",
    "            distribuicao[a[3]] = 1\n",
    "    return distribuicao\n",
    "\n",
    "    d=distribPorMedia(BD)\n",
    "    print(d)"
   ]
  },
  {
   "cell_type": "markdown",
   "metadata": {},
   "source": [
    "   \n",
    "# Gráficos\n",
    "\n",
    "## Gráfico da distribuição por curso (exercício 7)\n",
    "\n",
    "Especifica uma função que faz o plot dum gráfico com a distribuição de alunos por curso.\n",
    "  "
   ]
  },
  {
   "cell_type": "markdown",
   "metadata": {},
   "source": [
    "  \n",
    "def plotDistribPorCurso(???):\n",
    " # Escreve aqui o teu código\"\n",
    "  "
   ]
  },
  {
   "cell_type": "markdown",
   "metadata": {},
   "source": [
    "  \n",
    "## Gráfico da distribuição por média (exercício 8)\n",
    "\n",
    "Especifica uma função que faz o plot dum gráfico com a distribuição de alunos por média.\n",
    "  "
   ]
  },
  {
   "cell_type": "code",
   "execution_count": 2,
   "metadata": {},
   "outputs": [
    {
     "ename": "IndentationError",
     "evalue": "unindent does not match any outer indentation level (<tokenize>, line 4)",
     "output_type": "error",
     "traceback": [
      "\u001b[1;36m  File \u001b[1;32m\"<tokenize>\"\u001b[1;36m, line \u001b[1;32m4\u001b[0m\n\u001b[1;33m    \"metadata\": {\u001b[0m\n\u001b[1;37m    ^\u001b[0m\n\u001b[1;31mIndentationError\u001b[0m\u001b[1;31m:\u001b[0m unindent does not match any outer indentation level\n"
     ]
    }
   ],
   "source": [
    "def plotDistribPorMedia(???):\\n\",\n",
    "    \"    # Escreve aqui o teu código\"\n",
    "\n",
    " \"metadata\": {\n",
    "  \"interpreter\": {\n",
    "   \"hash\": \"aee8b7b246df8f9039afb4144a1f6fd8d2ca17a180786b69acc140d282b71a49\"\n",
    "  },\n",
    "  \"kernelspec\": {\n",
    "   \"display_name\": \"Python 3.9.1 64-bit\",\n",
    "   \"name\": \"python3\"\n",
    "  },\n",
    "  \"language_info\": {\n",
    "   \"codemirror_mode\": {\n",
    "    \"name\": \"ipython\",\n",
    "    \"version\": 3\n",
    "   },\n",
    "   \"file_extension\": \".py\",\n",
    "   \"mimetype\": \"text/x-python\",\n",
    "   \"name\": \"python\",\n",
    "   \"nbconvert_exporter\": \"python\",\n",
    "   \"pygments_lexer\": \"ipython3\",\n",
    "   \"version\": \"3.9.1\"\n",
    "  },\n",
    "  \"orig_nbformat\": 4\n",
    " },\n",
    " \"nbformat\": 4,\n",
    " \"nbformat_minor\": 2\n",
    "}"
   ]
  },
  {
   "cell_type": "code",
   "execution_count": 53,
   "metadata": {},
   "outputs": [
    {
     "ename": "NameError",
     "evalue": "name 'a' is not defined",
     "output_type": "error",
     "traceback": [
      "\u001b[1;31m---------------------------------------------------------------------------\u001b[0m",
      "\u001b[1;31mNameError\u001b[0m                                 Traceback (most recent call last)",
      "\u001b[1;32m<ipython-input-53-22cd1ada8b2b>\u001b[0m in \u001b[0;36m<module>\u001b[1;34m\u001b[0m\n\u001b[0;32m     20\u001b[0m \u001b[1;33m\u001b[0m\u001b[0m\n\u001b[0;32m     21\u001b[0m \u001b[1;31m# x-coordinates of left sides of bars\u001b[0m\u001b[1;33m\u001b[0m\u001b[1;33m\u001b[0m\u001b[1;33m\u001b[0m\u001b[0m\n\u001b[1;32m---> 22\u001b[1;33m \u001b[0mleft\u001b[0m \u001b[1;33m=\u001b[0m \u001b[1;33m[\u001b[0m\u001b[0ma\u001b[0m\u001b[1;33m[\u001b[0m\u001b[1;36m1\u001b[0m\u001b[1;33m]\u001b[0m\u001b[1;33m]\u001b[0m\u001b[1;33m\u001b[0m\u001b[1;33m\u001b[0m\u001b[0m\n\u001b[0m\u001b[0;32m     23\u001b[0m \u001b[1;33m\u001b[0m\u001b[0m\n\u001b[0;32m     24\u001b[0m \u001b[1;31m# heights of bars\u001b[0m\u001b[1;33m\u001b[0m\u001b[1;33m\u001b[0m\u001b[1;33m\u001b[0m\u001b[0m\n",
      "\u001b[1;31mNameError\u001b[0m: name 'a' is not defined"
     ]
    }
   ],
   "source": [
    "# TPC7\n",
    "\n",
    "#Exercício 6\n",
    "def distribPorMedia(d):\n",
    "    distribuicao = {}\n",
    "    for a in bd:\n",
    "        if a[3] in distribuicao.keys():\n",
    "            distribuicao[sum(a[3])/len(a[3])]= distribuicao[sum(a[3]+1)/len(a[3]+1)]\n",
    "        else:\n",
    "            distribuicao[a[3]] = 1\n",
    "    return distribuicao\n",
    "\n",
    "    d=distribPorMedia(BD)\n",
    "    print(d)\n",
    "    \n",
    "#ver distribuições em gráficos de barras para:\n",
    "#curso \n",
    "\n",
    "import matplotlib.pyplot as plt\n",
    " \n",
    "# x-coordinates of left sides of bars\n",
    "left = [a[1]]\n",
    " \n",
    "# heights of bars\n",
    "height = [distribPorMedia(BD)]\n",
    " \n",
    "# labels for bars\n",
    "tick_label = ['media1', 'media2', 'media3', 'media4', 'media5', \"...\"]\n",
    " \n",
    "# plotting a bar chart\n",
    "plt.bar(left, height, tick_label = tick_label,\n",
    "        width = 0.5, color = ['red', 'green'])\n",
    " \n",
    "# naming the x-axis\n",
    "plt.xlabel('alunos')\n",
    "# naming the y-axis\n",
    "plt.ylabel('media')\n",
    "# plot title\n",
    "plt.title('distribuicao por media')\n",
    " \n",
    "# function to show the plot\n",
    "plt.show()"
   ]
  },
  {
   "cell_type": "code",
   "execution_count": null,
   "metadata": {},
   "outputs": [],
   "source": []
  }
 ],
 "metadata": {
  "kernelspec": {
   "display_name": "Python 3",
   "language": "python",
   "name": "python3"
  },
  "language_info": {
   "codemirror_mode": {
    "name": "ipython",
    "version": 3
   },
   "file_extension": ".py",
   "mimetype": "text/x-python",
   "name": "python",
   "nbconvert_exporter": "python",
   "pygments_lexer": "ipython3",
   "version": "3.7.3"
  }
 },
 "nbformat": 4,
 "nbformat_minor": 4
}
