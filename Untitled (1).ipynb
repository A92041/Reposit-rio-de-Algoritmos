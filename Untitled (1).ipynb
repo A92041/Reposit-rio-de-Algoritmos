{
 "cells": [
  {
   "cell_type": "markdown",
   "id": "cca89e26-50b0-4d1c-a143-10fdb61af82c",
   "metadata": {},
   "source": [
    "# Manifesto TPC2"
   ]
  },
  {
   "cell_type": "markdown",
   "id": "3f2561bb-5817-474c-a011-cecd151865d6",
   "metadata": {},
   "source": [
    "## Algoritmos\n",
    "* Título: Jogo: Adivinha o nº em que pensei\n",
    "* Data de início: 2021-10-17\n",
    "* Data de fim: 2021-10-18\n",
    "* Supervisor:José Carlos Leite Ramalho, jcr@di.uminho.pt\n",
    "* Autor: Marta Cristina Nunes Silva A92041\n",
    "* Resumo: Este trabalho tem como objetivo desenvolver um jogo em que o computador adivinha o número em que estamos a pensar através da procura binária."
   ]
  },
  {
   "cell_type": "code",
   "execution_count": 1,
   "id": "14758c8c-400c-4447-8726-6d69ba9ae73a",
   "metadata": {},
   "outputs": [
    {
     "name": "stdout",
     "output_type": "stream",
     "text": [
      "Escolhe um numero entre 0 e 100\n"
     ]
    },
    {
     "name": "stdin",
     "output_type": "stream",
     "text": [
      "o numero que pensou é o50 NÃO\n",
      "o número é maior ou menor do que50escreva maior ou menor MENOR\n",
      "o numero que pensou é o25 SIM\n"
     ]
    },
    {
     "name": "stdout",
     "output_type": "stream",
     "text": [
      "o seu número foi adivinhado em1tentativas\n"
     ]
    }
   ],
   "source": [
    "def jogo():\n",
    "    print(\"Escolhe um numero entre 0 e 100\")\n",
    "    n=0\n",
    "    max=100\n",
    "    min=0\n",
    "    resultado=0\n",
    "    while resultado == 0:\n",
    "        intervalo = max + min\n",
    "        media = input(\"o numero que pensou é o\"+str(int(intervalo/2)))\n",
    "        media = media.upper()\n",
    "        if media == \"SIM\":\n",
    "            resultado = intervalo/2\n",
    "        elif media == \"NÃO\":\n",
    "            maiormenor = input(\"o número é maior ou menor do que\"+str(int(intervalo/2))+\"escreva maior ou menor\")\n",
    "            maiormenor = maiormenor.upper()\n",
    "            if maiormenor == \"MAIOR\":\n",
    "                min=int((intervalo)/2)\n",
    "            elif maiormenor == \"MENOR\":\n",
    "                max=int((intervalo)/2)\n",
    "    n=n+1\n",
    "    print(\"o seu número foi adivinhado em\"+str(n)+\"tentativas\")\n",
    "jogo()"
   ]
  },
  {
   "cell_type": "code",
   "execution_count": null,
   "id": "6fd7ed4e-5c6f-4020-b97a-fac01bd8677b",
   "metadata": {},
   "outputs": [],
   "source": []
  },
  {
   "cell_type": "code",
   "execution_count": null,
   "id": "2b174b3f-0488-4550-a202-1fa196bb8771",
   "metadata": {},
   "outputs": [],
   "source": []
  }
 ],
 "metadata": {
  "kernelspec": {
   "display_name": "Python 3",
   "language": "python",
   "name": "python3"
  },
  "language_info": {
   "codemirror_mode": {
    "name": "ipython",
    "version": 3
   },
   "file_extension": ".py",
   "mimetype": "text/x-python",
   "name": "python",
   "nbconvert_exporter": "python",
   "pygments_lexer": "ipython3",
   "version": "3.8.8"
  }
 },
 "nbformat": 4,
 "nbformat_minor": 5
}
