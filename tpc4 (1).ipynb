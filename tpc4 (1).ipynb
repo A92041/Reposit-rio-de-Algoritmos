{
 "cells": [
  {
   "cell_type": "markdown",
   "id": "f62f20ab",
   "metadata": {},
   "source": [
    "# Manifesto TPC4\n",
    "\n",
    "## Algoritmos\n",
    "\n",
    "* Título: App de Frações\n",
    "* Data de início: 2021-10-25\n",
    "* Data de fim: 2021-11-07\n",
    "* Supervisor:José Carlos Leite Ramalho, jcr@di.uminho.pt\n",
    "* Autor: Marta Cristina Nunes Silva A92041\n",
    "* Resumo: Este trabalho tem como objetivo criar uma app para frações que realize operações com as mesmas como somar, multiplicar, entre outras..."
   ]
  },
  {
   "cell_type": "code",
   "execution_count": 9,
   "id": "8b9afbde",
   "metadata": {},
   "outputs": [
    {
     "ename": "IndentationError",
     "evalue": "expected an indented block (<ipython-input-9-d0e4cc9863a8>, line 23)",
     "output_type": "error",
     "traceback": [
      "\u001b[1;36m  File \u001b[1;32m\"<ipython-input-9-d0e4cc9863a8>\"\u001b[1;36m, line \u001b[1;32m23\u001b[0m\n\u001b[1;33m    n1, d1 = f1\u001b[0m\n\u001b[1;37m     ^\u001b[0m\n\u001b[1;31mIndentationError\u001b[0m\u001b[1;31m:\u001b[0m expected an indented block\n"
     ]
    }
   ],
   "source": [
    "from random import randint\n",
    "class AppFrac():\n",
    "    def __init__(self,f1,f2):\n",
    "        self.f1=f1\n",
    "        self.f2=f2\n",
    "    \n",
    "    def mdc(a,b):   \n",
    "        if a < b:\n",
    "            return mdc(b, a)\n",
    "        elif a % b == 0:    \n",
    "            return b\n",
    "        else: \n",
    "            return mdc(a, a%b)\n",
    "    \n",
    "    def simplificarFracao(f1,f2):          \n",
    "        n1, d1 = f1\n",
    "        n2, d2 = f2\n",
    "        a = mdc(n1,d1)\n",
    "        b = mdc(n2,d2)\n",
    "    return (n1/a, d1/a,n2/b,d2/b)\n",
    "    \n",
    "    def somaFrac(f1, f2):\n",
    "    n1, d1 = f1\n",
    "    n2, d2 = f2\n",
    "    return simplificarFracao(criarFracao(n1*d2+n2*d1, d1*d2))\n",
    "    def ad(self):\n",
    "        return self.f1+self.f2\n",
    "    def mul(self):\n",
    "        return self.f1*self.f2\n",
    "    def div(self):\n",
    "        return self.f1/self.f2\n",
    "    def sub(self):\n",
    "        return self.f1-self.f2\n",
    "    \n",
    "\n",
    "op=1\n",
    "while op!=0:\n",
    "    n1= randint(0,100)\n",
    "    d1= randint(0,100)\n",
    "    n2 = randint(0,100)\n",
    "    d2 = randint(0,100)\n",
    "    obj=AppFrac(f1,f2)\n",
    "    print(\"1. +\")\n",
    "    print(\"2. -\")\n",
    "    print(\"3. x\")\n",
    "    print(\"4. /\")\n",
    "    op=int(input(\"Operação: \"))\n",
    "    if op==1:\n",
    "        print(\"Resultado: \",obj.ad())\n",
    "    elif op==2:\n",
    "        print(\"Resultado: \",obj.sub())\n",
    "    elif op==3:\n",
    "        print(\"Resultado: \",obj.mul())\n",
    "    elif op==4:\n",
    "        print(\"Resultado: \",round(obj.div()))"
   ]
  },
  {
   "cell_type": "code",
   "execution_count": null,
   "id": "06585f8d",
   "metadata": {},
   "outputs": [],
   "source": []
  }
 ],
 "metadata": {
  "kernelspec": {
   "display_name": "Python 3",
   "language": "python",
   "name": "python3"
  },
  "language_info": {
   "codemirror_mode": {
    "name": "ipython",
    "version": 3
   },
   "file_extension": ".py",
   "mimetype": "text/x-python",
   "name": "python",
   "nbconvert_exporter": "python",
   "pygments_lexer": "ipython3",
   "version": "3.8.8"
  }
 },
 "nbformat": 4,
 "nbformat_minor": 5
}
