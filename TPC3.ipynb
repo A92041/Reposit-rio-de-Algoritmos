{
 "cells": [
  {
   "cell_type": "markdown",
   "id": "f5a50867-3edd-47cc-81df-c069cf0af2b2",
   "metadata": {},
   "source": [
    "# Manifesto TPC3\n",
    "\n",
    "### Algoritmos\n",
    "\n",
    "*  Título: Bubble sort\n",
    "*  Data de início: 2021-10-18\n",
    "*  Data de fim: 2021-10-24\n",
    "*  Supervisor:José Carlos Leite Ramalho, jcr@di.uminho.pt\n",
    "*  Autor: Marta Cristina Nunes Silva A92041\n",
    "*  Resumo: Este trabalho tem como objetivo introduzir uma lista em que o computador a ordena utilizando o bubble sort sem utilizar \"sort\" para ordenar a lista. "
   ]
  },
  {
   "cell_type": "code",
   "execution_count": 17,
   "id": "1938f7aa-e229-43dc-a7c9-6e2a716b134b",
   "metadata": {},
   "outputs": [
    {
     "name": "stdin",
     "output_type": "stream",
     "text": [
      "Introduza o nº de elementos na lista: 4\n",
      "Introduza o elemento:1 : 10\n",
      "Introduza o elemento:2 : 3\n",
      "Introduza o elemento:3 : 5\n",
      "Introduza o elemento:4 : 89\n"
     ]
    },
    {
     "name": "stdout",
     "output_type": "stream",
     "text": [
      "[3, 5, 10, 89]\n"
     ]
    }
   ],
   "source": [
    "def criarListaM():\n",
    "    n=int(input(\"Introduza o nº de elementos na lista:\"))\n",
    "    lista=[]\n",
    "    for i in range(n):\n",
    "        elem=int(input(\"Introduza o elemento:\"+ str(i+1) + \" :\"))\n",
    "        lista.append(elem)\n",
    "    return lista\n",
    "\n",
    "def bubble_sort(lista):\n",
    "    for i in range(len(lista)):\n",
    "        for j in range(len(lista) - 1):\n",
    "            if lista[j] > lista[j+1]:\n",
    "                lista[j], lista[j+1] = lista[j+1], lista[j]\n",
    "    return lista           \n",
    "\n",
    "lista=criarListaM()                \n",
    "print(bubble_sort(lista))"
   ]
  },
  {
   "cell_type": "code",
   "execution_count": null,
   "id": "9482920a-ccdc-47a8-9f0c-56f3754cf0c5",
   "metadata": {},
   "outputs": [],
   "source": []
  }
 ],
 "metadata": {
  "kernelspec": {
   "display_name": "Python 3",
   "language": "python",
   "name": "python3"
  },
  "language_info": {
   "codemirror_mode": {
    "name": "ipython",
    "version": 3
   },
   "file_extension": ".py",
   "mimetype": "text/x-python",
   "name": "python",
   "nbconvert_exporter": "python",
   "pygments_lexer": "ipython3",
   "version": "3.8.8"
  }
 },
 "nbformat": 4,
 "nbformat_minor": 5
}
