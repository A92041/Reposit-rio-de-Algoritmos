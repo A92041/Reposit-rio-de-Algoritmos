{
 "cells": [
  {
   "cell_type": "markdown",
   "metadata": {},
   "source": [
    "# Manifesto TPC7\n",
    "\n",
    "## Algoritmos\n",
    "\n",
    "* Título: ficha técnica da aula tp7\n",
    "* Data de início: 2021-10-25\n",
    "* Data de fim: 2021-10-31\n",
    "* Supervisor:José Carlos Leite Ramalho, jcr@di.uminho.pt\n",
    "* Autor: Marta Cristina Nunes Silva A92041\n",
    "* Resumo: Este trabalho tem como objetivo resolver o exercício 6 da aula tp nº7 e criar um gráfico de barras dos alunos por média\n"
   ]
  },
  {
   "cell_type": "code",
   "execution_count": 2,
   "metadata": {},
   "outputs": [],
   "source": [
    "#Aula Tp 7\n",
    "\n",
    "\"id_aluno,nome,curso,tpc1,tpc2,tpc3,tpc4\"\n",
    "\"a1\",\"Aysha Melanie Gilberto\",\"LEI\",12,8,19,8\n",
    "\"a2\",\"Igor André Cantanhede\",\"ENGFIS\", 12,16,18,20\n",
    "\"a3\", \"Laurénio Narciso\" , \"ENGFIS\" , 8, 14, 15,14\n",
    "\"a4\", \"Jasnoor Casegas\", \"LCC\", 14, 20, 17, 11 \n",
    "\"a5\" , \"Tawseef Rebouças\",\"ENGBIOM\", 13, 14, 13, 17\n",
    "\"a6\" , \" Eryk Clementino \",\"LEI\", 10,19,11,14\n",
    "\n",
    "# Descreve em texto o teu\n",
    "#\n",
    "#BdAlunos = [Aluno]\n",
    "#Aluno = [id,nome,curso,[tpc1,tpc2,tpc3,tpc4]]\n",
    "#\n",
    "# Descreve em texto o teu\n",
    "#\n",
    "#BdAlunos = [Aluno]\n",
    "#Aluno = [id,nome,curso,[tpc1,tpc2,tpc3,tpc4]]\n",
    "#\n",
    "#Leitura/carregamento da informação do ficheiro\n",
    "def convInt(s):\n",
    "    return int(s)\n",
    "\n",
    "def getAluno(texto):\n",
    "    textoLimpo = texto.replace(\"\\\"\",\"\") #substituir as aspas por espaços vazios\n",
    "    campos = textoLimpo.split(\",\")\n",
    "    aluno = []\n",
    "    aluno.append(campos[0])\n",
    "    aluno.append(campos[1])\n",
    "    aluno.append(campos[2])\n",
    "    aluno.append(campos[3:])\n",
    "    lista = []\n",
    "    for s in aluno[3]:\n",
    "        lista.append(int(s))\n",
    "    aluno[3]= lista\n",
    "    print(aluno) #conversão de texto para linha formada\n",
    "         \n",
    "\n",
    "def lerDataset(fnome):\n",
    "    f = open(fnome, encoding=\"utf-8\")\n",
    "    bd = []\n",
    "    f.readline()\n",
    "    for linha in f:\n",
    "        bd.append(getAluno(linha))\n",
    "    return bd"
   ]
  },
  {
   "cell_type": "code",
   "execution_count": 3,
   "metadata": {},
   "outputs": [
    {
     "name": "stdout",
     "output_type": "stream",
     "text": [
      "['a1', 'Aysha Melanie Gilberto', 'LEI', [12, 8, 19, 8]]\n",
      "['a2', 'Igor André Cantanhede', 'ENGFIS', [12, 16, 18, 20]]\n",
      "['a3', 'Laurénio Narciso', 'ENGFIS', [8, 14, 15, 14]]\n",
      "['a4', 'Jasnoor Casegas', 'LCC', [14, 20, 17, 11]]\n",
      "['a5', 'Tawseef Rebouças', 'ENGBIOM', [13, 14, 13, 17]]\n",
      "['a6', 'Eryk Clementino', 'LEI', [10, 19, 11, 14]]\n",
      "['a7', 'Ianna Noivo', 'ENGBIOM', [15, 15, 17, 16]]\n",
      "['a8', 'Ayla Thaissa Reina', 'ENGBIOM', [12, 8, 8, 18]]\n",
      "['a9', 'Cássia Viviane Coitã', 'ENGFIS', [19, 9, 14, 10]]\n",
      "['a10', 'Koby Vindima', 'LEI', [9, 14, 20, 13]]\n",
      "['a11', 'Gustavo Martim Hernandez', 'ENGBIOM', [11, 8, 14, 11]]\n",
      "['a12', 'Siddarta Beiriz', 'LEI', [17, 10, 16, 16]]\n",
      "['a13', 'Daniela Patrícia Montes', 'ENGBIOM', [15, 15, 18, 19]]\n",
      "['a14', 'Kaylla Pessego', 'LCC', [10, 14, 17, 15]]\n",
      "['a15', 'Bianca Cristina Primitivo', 'ENGBIOM', [16, 9, 18, 10]]\n",
      "['a16', 'Magna Galhardo', 'ENGFIS', [20, 18, 9, 14]]\n",
      "['a17', 'Grace Isabel Patriarca', 'LCC', [19, 13, 9, 10]]\n",
      "['a18', 'Saubhagya Buco', 'LEI', [18, 18, 17, 8]]\n",
      "['a19', 'Ivo Vicente Boisa', 'ENGBIOM', [14, 10, 18, 13]]\n",
      "['a20', 'Vivaan Castilhos', 'ENGFIS', [15, 14, 11, 12]]\n",
      "['a21', 'Layana Camejo', 'ENGFIS', [17, 12, 10, 20]]\n",
      "['a22', 'Mahdi Menoita', 'ENGFIS', [11, 16, 8, 16]]\n",
      "['a23', 'Yifan Cortinado', 'LEI', [19, 16, 8, 18]]\n",
      "['a24', 'Éder Sodré', 'ENGFIS', [17, 13, 14, 12]]\n",
      "['a25', 'Dhriti Magano', 'ENGFIS', [19, 11, 8, 19]]\n",
      "['a26', 'Steve Devesa', 'ENGBIOM', [10, 16, 8, 13]]\n",
      "['a27', 'Lisandro Mariano Picassinos', 'ENGFIS', [13, 10, 16, 10]]\n",
      "['a28', 'Itiel Quinoy', 'LEI', [18, 18, 8, 9]]\n",
      "['a29', 'Pranika Reimoo', 'LEI', [12, 16, 15, 13]]\n",
      "['a30', 'Manaia Viseu', 'ENGFIS', [8, 12, 20, 11]]\n",
      "['a31', 'Eva Manuel Caio', 'ENGFIS', [12, 16, 20, 16]]\n",
      "['a32', 'Ariane Sofia Foja', 'LEI', [20, 19, 13, 18]]\n",
      "['a33', 'Jaime António Pauseiro', 'LCC', [19, 13, 8, 10]]\n",
      "['a34', 'Tanisha Marzagoo', 'ENGBIOM', [14, 19, 13, 14]]\n",
      "['a35', 'Siyon Anca', 'LEI', [8, 13, 19, 15]]\n",
      "['a36', 'Diana Beatriz Boavista', 'LCC', [19, 18, 17, 12]]\n",
      "['a37', 'Elisiário Saberio', 'ENGFIS', [18, 18, 10, 19]]\n",
      "['a38', 'Maira Brites', 'ENGFIS', [13, 16, 15, 17]]\n",
      "['a39', 'Victória Gabriela Incenso', 'LEI', [17, 14, 13, 8]]\n",
      "['a40', 'Najua Serôdio', 'LCC', [17, 9, 16, 18]]\n",
      "['a41', 'Lachezar Rosas', 'ENGBIOM', [16, 18, 18, 15]]\n",
      "['a42', 'Kattleya Trigueiro', 'ENGFIS', [19, 16, 14, 15]]\n",
      "['a43', 'Tatiana Guiomar Maricoto', 'LCC', [19, 8, 15, 11]]\n",
      "['a44', 'Mélanie Daniela Bugalhão', 'LCC', [17, 9, 17, 18]]\n",
      "['a45', 'Imayame Hespanha', 'ENGFIS', [20, 17, 19, 11]]\n",
      "['a46', 'Yuri Gabriel Baganha', 'LCC', [15, 18, 12, 16]]\n",
      "['a47', 'Moisés João Cornelio', 'LEI', [20, 16, 19, 17]]\n",
      "['a48', 'Nazir Assif Trinta', 'LEI', [14, 14, 12, 8]]\n",
      "['a49', 'Karamjot Arezes', 'LEI', [10, 9, 20, 12]]\n",
      "['a50', 'Rishit Justa', 'ENGBIOM', [9, 9, 9, 12]]\n",
      "['a51', 'Iara de Jesus Gonçalo', 'ENGFIS', [14, 8, 12, 14]]\n",
      "['a52', 'Stepfan Owusu Lercas', 'LEI', [18, 9, 16, 14]]\n",
      "['a53', 'Abner Umbelina', 'ENGBIOM', [20, 16, 10, 13]]\n",
      "['a54', 'Dânia Lucy Montelobo', 'LEI', [18, 19, 15, 11]]\n",
      "['a55', 'Myla Lopez', 'ENGFIS', [9, 17, 12, 20]]\n",
      "['a56', 'Hakeem Brazão', 'LEI', [18, 18, 13, 20]]\n",
      "['a57', 'Quinn Aveiro', 'ENGBIOM', [17, 16, 9, 13]]\n",
      "['a58', 'Etienne Constentino', 'ENGBIOM', [15, 8, 9, 13]]\n",
      "['a59', 'Emanuel Marcos Delfina', 'LEI', [9, 15, 8, 13]]\n",
      "['a60', 'Mariana Catarina Ramalheira', 'ENGBIOM', [17, 19, 19, 11]]\n",
      "['a61', 'Bradley Tabau', 'LCC', [16, 19, 16, 12]]\n",
      "['a62', 'Ahmadou Bamba Calcinha', 'LCC', [13, 20, 8, 16]]\n",
      "['a63', 'Francisco Pedro Derresa', 'ENGFIS', [8, 12, 20, 18]]\n",
      "['a64', 'Gil Miguel Lima', 'ENGBIOM', [16, 19, 8, 14]]\n",
      "['a65', 'Leonor Pedro Carqueijeiro', 'ENGBIOM', [19, 11, 17, 8]]\n",
      "['a66', 'Genrikh Maximovich Vila-Chã', 'ENGFIS', [12, 15, 13, 9]]\n",
      "['a67', 'Mayra Larissa Rolo', 'LCC', [15, 14, 17, 12]]\n",
      "['a68', 'Leandro David Dunhoo', 'ENGBIOM', [15, 14, 11, 15]]\n",
      "['a69', 'Adele Belchior', 'ENGBIOM', [17, 12, 20, 12]]\n",
      "['a70', 'Frantceska Borreca', 'ENGFIS', [18, 11, 19, 8]]\n",
      "['a71', 'Derrick Urias', 'ENGFIS', [11, 10, 8, 14]]\n",
      "['a72', 'Ana Gabriel Quirino', 'LCC', [10, 17, 8, 19]]\n",
      "['a73', 'Carolina Antoo', 'ENGBIOM', [16, 19, 20, 10]]\n",
      "['a74', 'Vânia Sofia Porfirio', 'ENGBIOM', [18, 19, 18, 15]]\n",
      "['a75', 'Dárcio Wosvaldo Tudela', 'LEI', [8, 18, 9, 18]]\n",
      "['a76', 'Zhara Couxão', 'ENGFIS', [16, 10, 14, 12]]\n",
      "['a77', 'Tomé Ferrito', 'LCC', [14, 10, 15, 19]]\n",
      "['a78', 'Iasmin Paloma Chaveiro', 'LCC', [8, 15, 19, 9]]\n",
      "['a79', 'Sadagi Cruto', 'ENGBIOM', [13, 18, 14, 18]]\n",
      "['a80', 'Maria Carolina Josué', 'ENGFIS', [17, 20, 17, 18]]\n",
      "['a81', 'Quaresma Lancastre', 'ENGBIOM', [17, 9, 16, 19]]\n",
      "['a82', 'Evaldir Gervasio', 'ENGFIS', [16, 19, 15, 8]]\n",
      "['a83', 'Dolorinda Adolfo', 'ENGFIS', [11, 20, 16, 8]]\n",
      "['a84', 'Laudário Frasão', 'LCC', [20, 19, 10, 19]]\n",
      "['a85', 'Rómula Jeronimo', 'ENGFIS', [10, 13, 12, 11]]\n",
      "['a86', 'Clésio Rodeiro', 'LCC', [9, 13, 12, 18]]\n",
      "['a87', 'Feliciano José Avis', 'ENGFIS', [9, 11, 10, 9]]\n",
      "['a88', 'Afonso Adriano Marca', 'ENGBIOM', [8, 16, 12, 15]]\n",
      "['a89', 'Victória Miguel Rosete', 'ENGFIS', [8, 13, 13, 18]]\n",
      "['a90', 'Tome Teroso', 'ENGFIS', [9, 9, 10, 17]]\n",
      "['a91', 'Constança Filipa Melado', 'LEI', [10, 12, 8, 20]]\n",
      "['a92', 'Madalena Jesus Alfaiate', 'LEI', [17, 14, 9, 17]]\n",
      "['a93', 'Bivhan Reimbau', 'LCC', [17, 11, 8, 12]]\n",
      "['a94', 'Viviana Sofia Gaspar', 'ENGBIOM', [16, 16, 20, 14]]\n",
      "['a95', 'Íris Soraia Chiote', 'LEI', [11, 11, 17, 16]]\n",
      "['a96', 'Anaïs Sintra', 'LCC', [19, 19, 12, 9]]\n",
      "['a97', 'Salvador Banaca', 'LCC', [12, 9, 20, 12]]\n",
      "['a98', 'Guilherme Matias Almeirão', 'ENGFIS', [14, 9, 12, 11]]\n",
      "['a99', 'Xavier Luís Bulha', 'ENGFIS', [17, 13, 8, 10]]\n",
      "['a100', 'Tude Searas', 'LEI', [20, 17, 8, 14]]\n",
      "[None, None, None, None, None, None, None, None, None, None, None, None, None, None, None, None, None, None, None, None, None, None, None, None, None, None, None, None, None, None, None, None, None, None, None, None, None, None, None, None, None, None, None, None, None, None, None, None, None, None, None, None, None, None, None, None, None, None, None, None, None, None, None, None, None, None, None, None, None, None, None, None, None, None, None, None, None, None, None, None, None, None, None, None, None, None, None, None, None, None, None, None, None, None, None, None, None, None, None, None]\n"
     ]
    }
   ],
   "source": [
    "BD = []\n",
    "BD = lerDataset(\"../datasets/alunos.csv\") #procurar o ficheiro na pasta\n",
    "print(BD)"
   ]
  },
  {
   "cell_type": "code",
   "execution_count": null,
   "metadata": {},
   "outputs": [],
   "source": [
    "#listagem de informação\n",
    "def listarDataset(bd):\n",
    "    print(\"id     nome     curso     média\")\n",
    "    print(\"-------------------------------\")\n",
    "    for a in bd: #para cada linha\n",
    "        print(a[0] + \" | \" + a[1] + \" | \" + a[2] + \" | \" + str(sum(a[3]/4))\n",
    "              \n",
    "listarDataset(BD)         "
   ]
  },
  {
   "cell_type": "code",
   "execution_count": 4,
   "metadata": {},
   "outputs": [],
   "source": [
    "#exercício 5              \n",
    "def distribPorCurso(bd):\n",
    "    distribuicao={}\n",
    "    for a in bd:\n",
    "        if a[2] in distribuicao.keys():\n",
    "            distribuicao[a[2]]= distribuicao[a[2]]+1\n",
    "        else:\n",
    "            distribuicao[a[2]]= 1\n",
    "    return distribuicao\n",
    "\n",
    "    d=distribPorCurso(BD)\n",
    "    print(d)              "
   ]
  },
  {
   "cell_type": "code",
   "execution_count": 5,
   "metadata": {},
   "outputs": [],
   "source": [
    "#Exercício 6\n",
    "def distribPorMedia(d):\n",
    "    distribuicao = {}\n",
    "    for a in bd:\n",
    "        if a[3] in distribuicao.keys():\n",
    "            distribuicao[sum(a[3])/len(a[3])]= distribuicao[sum(a[3]+1)/len(a[3]+1)]\n",
    "        else:\n",
    "            distribuicao[a[3]] = 1\n",
    "    return distribuicao\n",
    "\n",
    "    d=distribPorMedia(BD)\n",
    "    print(d)"
   ]
  },
  {
   "cell_type": "code",
   "execution_count": 6,
   "metadata": {},
   "outputs": [
    {
     "name": "stdout",
     "output_type": "stream",
     "text": [
      "   id_aluno                         nome    curso  tpc1  tpc2  tpc3  tpc4\n",
      "0        a1       Aysha Melanie Gilberto      LEI    12     8    19     8\n",
      "1        a2        Igor André Cantanhede   ENGFIS    12    16    18    20\n",
      "2        a3             Laurénio Narciso   ENGFIS     8    14    15    14\n",
      "3        a4              Jasnoor Casegas      LCC    14    20    17    11\n",
      "4        a5             Tawseef Rebouças  ENGBIOM    13    14    13    17\n",
      "5        a6              Eryk Clementino      LEI    10    19    11    14\n",
      "6        a7                  Ianna Noivo  ENGBIOM    15    15    17    16\n",
      "7        a8           Ayla Thaissa Reina  ENGBIOM    12     8     8    18\n",
      "8        a9         Cássia Viviane Coitã   ENGFIS    19     9    14    10\n",
      "9       a10                 Koby Vindima      LEI     9    14    20    13\n",
      "10      a11     Gustavo Martim Hernandez  ENGBIOM    11     8    14    11\n",
      "11      a12              Siddarta Beiriz      LEI    17    10    16    16\n",
      "12      a13      Daniela Patrícia Montes  ENGBIOM    15    15    18    19\n",
      "13      a14               Kaylla Pessego      LCC    10    14    17    15\n",
      "14      a15    Bianca Cristina Primitivo  ENGBIOM    16     9    18    10\n",
      "15      a16               Magna Galhardo   ENGFIS    20    18     9    14\n",
      "16      a17       Grace Isabel Patriarca      LCC    19    13     9    10\n",
      "17      a18               Saubhagya Buco      LEI    18    18    17     8\n",
      "18      a19            Ivo Vicente Boisa  ENGBIOM    14    10    18    13\n",
      "19      a20             Vivaan Castilhos   ENGFIS    15    14    11    12\n",
      "20      a21                Layana Camejo   ENGFIS    17    12    10    20\n",
      "21      a22                Mahdi Menoita   ENGFIS    11    16     8    16\n",
      "22      a23              Yifan Cortinado      LEI    19    16     8    18\n",
      "23      a24                  Éder Sodré   ENGFIS    17    13    14    12\n",
      "24      a25                Dhriti Magano   ENGFIS    19    11     8    19\n",
      "25      a26                 Steve Devesa  ENGBIOM    10    16     8    13\n",
      "26      a27  Lisandro Mariano Picassinos   ENGFIS    13    10    16    10\n",
      "27      a28                 Itiel Quinoy      LEI    18    18     8     9\n",
      "28      a29               Pranika Reimoo      LEI    12    16    15    13\n",
      "29      a30                 Manaia Viseu   ENGFIS     8    12    20    11\n",
      "..      ...                          ...      ...   ...   ...   ...   ...\n",
      "70      a71                Derrick Urias   ENGFIS    11    10     8    14\n",
      "71      a72          Ana Gabriel Quirino      LCC    10    17     8    19\n",
      "72      a73               Carolina Antoo  ENGBIOM    16    19    20    10\n",
      "73      a74         Vânia Sofia Porfirio  ENGBIOM    18    19    18    15\n",
      "74      a75       Dárcio Wosvaldo Tudela      LEI     8    18     9    18\n",
      "75      a76                 Zhara Couxão   ENGFIS    16    10    14    12\n",
      "76      a77                 Tomé Ferrito      LCC    14    10    15    19\n",
      "77      a78       Iasmin Paloma Chaveiro      LCC     8    15    19     9\n",
      "78      a79                 Sadagi Cruto  ENGBIOM    13    18    14    18\n",
      "79      a80         Maria Carolina Josué   ENGFIS    17    20    17    18\n",
      "80      a81           Quaresma Lancastre  ENGBIOM    17     9    16    19\n",
      "81      a82             Evaldir Gervasio   ENGFIS    16    19    15     8\n",
      "82      a83             Dolorinda Adolfo   ENGFIS    11    20    16     8\n",
      "83      a84              Laudário Frasão      LCC    20    19    10    19\n",
      "84      a85              Rómula Jeronimo   ENGFIS    10    13    12    11\n",
      "85      a86               Clésio Rodeiro      LCC     9    13    12    18\n",
      "86      a87          Feliciano José Avis   ENGFIS     9    11    10     9\n",
      "87      a88         Afonso Adriano Marca  ENGBIOM     8    16    12    15\n",
      "88      a89       Victória Miguel Rosete   ENGFIS     8    13    13    18\n",
      "89      a90                  Tome Teroso   ENGFIS     9     9    10    17\n",
      "90      a91      Constança Filipa Melado      LEI    10    12     8    20\n",
      "91      a92      Madalena Jesus Alfaiate      LEI    17    14     9    17\n",
      "92      a93               Bivhan Reimbau      LCC    17    11     8    12\n",
      "93      a94         Viviana Sofia Gaspar  ENGBIOM    16    16    20    14\n",
      "94      a95           Íris Soraia Chiote      LEI    11    11    17    16\n",
      "95      a96                Anaïs Sintra      LCC    19    19    12     9\n",
      "96      a97              Salvador Banaca      LCC    12     9    20    12\n",
      "97      a98    Guilherme Matias Almeirão   ENGFIS    14     9    12    11\n",
      "98      a99            Xavier Luís Bulha   ENGFIS    17    13     8    10\n",
      "99     a100                  Tude Searas      LEI    20    17     8    14\n",
      "\n",
      "[100 rows x 7 columns]\n"
     ]
    }
   ],
   "source": [
    "#ver distribuições em gráficos de barras para:\n",
    "#curso \n",
    "\n",
    "\n",
    "import pandas as pd\n",
    "alunos = pd.read_csv(\"../datasets/alunos.csv\")\n",
    "print(alunos)"
   ]
  },
  {
   "cell_type": "code",
   "execution_count": 7,
   "metadata": {},
   "outputs": [
    {
     "data": {
      "text/plain": [
       "14.44"
      ]
     },
     "execution_count": 7,
     "metadata": {},
     "output_type": "execute_result"
    }
   ],
   "source": [
    "alunos[\"tpc1\"].mean()"
   ]
  },
  {
   "cell_type": "code",
   "execution_count": 27,
   "metadata": {},
   "outputs": [
    {
     "data": {
      "text/plain": [
       "tpc1    14.44\n",
       "tpc2    14.16\n",
       "tpc3    13.75\n",
       "tpc4    13.87\n",
       "dtype: float64"
      ]
     },
     "execution_count": 27,
     "metadata": {},
     "output_type": "execute_result"
    }
   ],
   "source": [
    "alunos[[\"tpc1\", \"tpc2\", \"tpc3\",\"tpc4\"]].mean()"
   ]
  },
  {
   "cell_type": "code",
   "execution_count": 9,
   "metadata": {},
   "outputs": [
    {
     "data": {
      "text/html": [
       "<div>\n",
       "<style scoped>\n",
       "    .dataframe tbody tr th:only-of-type {\n",
       "        vertical-align: middle;\n",
       "    }\n",
       "\n",
       "    .dataframe tbody tr th {\n",
       "        vertical-align: top;\n",
       "    }\n",
       "\n",
       "    .dataframe thead th {\n",
       "        text-align: right;\n",
       "    }\n",
       "</style>\n",
       "<table border=\"1\" class=\"dataframe\">\n",
       "  <thead>\n",
       "    <tr style=\"text-align: right;\">\n",
       "      <th></th>\n",
       "      <th>tpc1</th>\n",
       "      <th>tpc2</th>\n",
       "      <th>tpc3</th>\n",
       "      <th>tpc4</th>\n",
       "    </tr>\n",
       "  </thead>\n",
       "  <tbody>\n",
       "    <tr>\n",
       "      <th>count</th>\n",
       "      <td>100.000000</td>\n",
       "      <td>100.000000</td>\n",
       "      <td>100.000000</td>\n",
       "      <td>100.000000</td>\n",
       "    </tr>\n",
       "    <tr>\n",
       "      <th>mean</th>\n",
       "      <td>14.440000</td>\n",
       "      <td>14.160000</td>\n",
       "      <td>13.750000</td>\n",
       "      <td>13.870000</td>\n",
       "    </tr>\n",
       "    <tr>\n",
       "      <th>std</th>\n",
       "      <td>3.798777</td>\n",
       "      <td>3.711081</td>\n",
       "      <td>4.058599</td>\n",
       "      <td>3.577864</td>\n",
       "    </tr>\n",
       "    <tr>\n",
       "      <th>min</th>\n",
       "      <td>8.000000</td>\n",
       "      <td>8.000000</td>\n",
       "      <td>8.000000</td>\n",
       "      <td>8.000000</td>\n",
       "    </tr>\n",
       "    <tr>\n",
       "      <th>25%</th>\n",
       "      <td>11.000000</td>\n",
       "      <td>11.000000</td>\n",
       "      <td>10.000000</td>\n",
       "      <td>11.000000</td>\n",
       "    </tr>\n",
       "    <tr>\n",
       "      <th>50%</th>\n",
       "      <td>15.000000</td>\n",
       "      <td>14.000000</td>\n",
       "      <td>14.000000</td>\n",
       "      <td>14.000000</td>\n",
       "    </tr>\n",
       "    <tr>\n",
       "      <th>75%</th>\n",
       "      <td>17.250000</td>\n",
       "      <td>18.000000</td>\n",
       "      <td>17.000000</td>\n",
       "      <td>17.000000</td>\n",
       "    </tr>\n",
       "    <tr>\n",
       "      <th>max</th>\n",
       "      <td>20.000000</td>\n",
       "      <td>20.000000</td>\n",
       "      <td>20.000000</td>\n",
       "      <td>20.000000</td>\n",
       "    </tr>\n",
       "  </tbody>\n",
       "</table>\n",
       "</div>"
      ],
      "text/plain": [
       "             tpc1        tpc2        tpc3        tpc4\n",
       "count  100.000000  100.000000  100.000000  100.000000\n",
       "mean    14.440000   14.160000   13.750000   13.870000\n",
       "std      3.798777    3.711081    4.058599    3.577864\n",
       "min      8.000000    8.000000    8.000000    8.000000\n",
       "25%     11.000000   11.000000   10.000000   11.000000\n",
       "50%     15.000000   14.000000   14.000000   14.000000\n",
       "75%     17.250000   18.000000   17.000000   17.000000\n",
       "max     20.000000   20.000000   20.000000   20.000000"
      ]
     },
     "execution_count": 9,
     "metadata": {},
     "output_type": "execute_result"
    }
   ],
   "source": [
    "alunos[[\"tpc1\", \"tpc2\", \"tpc3\",\"tpc4\"]].describe()"
   ]
  },
  {
   "cell_type": "code",
   "execution_count": 10,
   "metadata": {},
   "outputs": [
    {
     "data": {
      "text/html": [
       "<div>\n",
       "<style scoped>\n",
       "    .dataframe tbody tr th:only-of-type {\n",
       "        vertical-align: middle;\n",
       "    }\n",
       "\n",
       "    .dataframe tbody tr th {\n",
       "        vertical-align: top;\n",
       "    }\n",
       "\n",
       "    .dataframe thead th {\n",
       "        text-align: right;\n",
       "    }\n",
       "</style>\n",
       "<table border=\"1\" class=\"dataframe\">\n",
       "  <thead>\n",
       "    <tr style=\"text-align: right;\">\n",
       "      <th></th>\n",
       "      <th>tpc1</th>\n",
       "    </tr>\n",
       "    <tr>\n",
       "      <th>curso</th>\n",
       "      <th></th>\n",
       "    </tr>\n",
       "  </thead>\n",
       "  <tbody>\n",
       "    <tr>\n",
       "      <th>ENGBIOM</th>\n",
       "      <td>14.760000</td>\n",
       "    </tr>\n",
       "    <tr>\n",
       "      <th>ENGFIS</th>\n",
       "      <td>13.750000</td>\n",
       "    </tr>\n",
       "    <tr>\n",
       "      <th>LCC</th>\n",
       "      <td>15.100000</td>\n",
       "    </tr>\n",
       "    <tr>\n",
       "      <th>LEI</th>\n",
       "      <td>14.478261</td>\n",
       "    </tr>\n",
       "  </tbody>\n",
       "</table>\n",
       "</div>"
      ],
      "text/plain": [
       "              tpc1\n",
       "curso             \n",
       "ENGBIOM  14.760000\n",
       "ENGFIS   13.750000\n",
       "LCC      15.100000\n",
       "LEI      14.478261"
      ]
     },
     "execution_count": 10,
     "metadata": {},
     "output_type": "execute_result"
    }
   ],
   "source": [
    "alunos[[\"curso\", \"tpc1\"]].groupby(\"curso\").mean()"
   ]
  },
  {
   "cell_type": "code",
   "execution_count": 26,
   "metadata": {},
   "outputs": [
    {
     "name": "stdout",
     "output_type": "stream",
     "text": [
      "['LEI' 'ENGFIS' 'LCC' 'ENGBIOM']\n"
     ]
    }
   ],
   "source": [
    "cursos = alunos[\"curso\"].unique()\n",
    "print(cursos)"
   ]
  },
  {
   "cell_type": "code",
   "execution_count": 37,
   "metadata": {},
   "outputs": [
    {
     "data": {
      "image/png": "[encoded data removed]",
      "text/plain": [
       "<Figure size 432x288 with 1 Axes>"
      ]
     },
     "metadata": {
      "needs_background": "light"
     },
     "output_type": "display_data"
    }
   ],
   "source": [
    "cont = alunos[\"tpc1\"].value_counts().plot(kind='bar')"
   ]
  },
  {
   "cell_type": "code",
   "execution_count": 38,
   "metadata": {},
   "outputs": [
    {
     "data": {
      "image/png": "[encoded data removed]",
      "text/plain": [
       "<Figure size 432x288 with 1 Axes>"
      ]
     },
     "metadata": {
      "needs_background": "light"
     },
     "output_type": "display_data"
    }
   ],
   "source": [
    "cont = alunos[\"tpc2\"].value_counts().plot(kind='bar')"
   ]
  },
  {
   "cell_type": "code",
   "execution_count": 39,
   "metadata": {},
   "outputs": [
    {
     "data": {
      "image/png": "[encoded data removed]",
      "text/plain": [
       "<Figure size 432x288 with 1 Axes>"
      ]
     },
     "metadata": {
      "needs_background": "light"
     },
     "output_type": "display_data"
    }
   ],
   "source": [
    "cont = alunos[\"tpc3\"].value_counts().plot(kind='bar')"
   ]
  },
  {
   "cell_type": "markdown",
   "metadata": {},
   "source": [
    "### ver distribuições em gráficos de barras para:\n",
    "* curso "
   ]
  },
  {
   "cell_type": "code",
   "execution_count": 47,
   "metadata": {},
   "outputs": [
    {
     "data": {
      "image/png": "[encoded data removed]",
      "text/plain": [
       "<Figure size 432x288 with 1 Axes>"
      ]
     },
     "metadata": {
      "needs_background": "light"
     },
     "output_type": "display_data"
    }
   ],
   "source": [
    "cont = alunos[[\"tpc1\", \"tpc2\", \"tpc3\",\"tpc4\"]].mean().plot(kind='bar')"
   ]
  }
 ],
 "metadata": {
  "kernelspec": {
   "display_name": "Python 3",
   "language": "python",
   "name": "python3"
  },
  "language_info": {
   "codemirror_mode": {
    "name": "ipython",
    "version": 3
   },
   "file_extension": ".py",
   "mimetype": "text/x-python",
   "name": "python",
   "nbconvert_exporter": "python",
   "pygments_lexer": "ipython3",
   "version": "3.7.3"
  }
 },
 "nbformat": 4,
 "nbformat_minor": 4
}
